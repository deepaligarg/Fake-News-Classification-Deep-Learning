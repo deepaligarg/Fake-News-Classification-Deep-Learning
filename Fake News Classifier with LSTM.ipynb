{
 "cells": [
  {
   "cell_type": "markdown",
   "id": "960fb630",
   "metadata": {},
   "source": [
    "### Fake News Classifier Using Word Embeddings and LSTM and Bidirectional LSTM"
   ]
  },
  {
   "cell_type": "code",
   "execution_count": 61,
   "id": "e8d7f94f",
   "metadata": {},
   "outputs": [],
   "source": [
    "#importing libraries\n",
    "\n",
    "import pandas as pd\n",
    "import numpy as np\n",
    "import tensorflow as tf\n",
    "from tensorflow.keras.layers import Embedding, LSTM, Dense, Dropout, Bidirectional\n",
    "from tensorflow.keras.preprocessing.sequence import pad_sequences\n",
    "from tensorflow.keras.models import Sequential\n",
    "from tensorflow.keras.preprocessing.text import one_hot"
   ]
  },
  {
   "cell_type": "code",
   "execution_count": 2,
   "id": "d5ead2ff",
   "metadata": {},
   "outputs": [],
   "source": [
    "news = pd.read_csv('train_news.csv')"
   ]
  },
  {
   "cell_type": "code",
   "execution_count": 3,
   "id": "fbfff5d2",
   "metadata": {},
   "outputs": [
    {
     "data": {
      "text/html": [
       "<div>\n",
       "<style scoped>\n",
       "    .dataframe tbody tr th:only-of-type {\n",
       "        vertical-align: middle;\n",
       "    }\n",
       "\n",
       "    .dataframe tbody tr th {\n",
       "        vertical-align: top;\n",
       "    }\n",
       "\n",
       "    .dataframe thead th {\n",
       "        text-align: right;\n",
       "    }\n",
       "</style>\n",
       "<table border=\"1\" class=\"dataframe\">\n",
       "  <thead>\n",
       "    <tr style=\"text-align: right;\">\n",
       "      <th></th>\n",
       "      <th>id</th>\n",
       "      <th>title</th>\n",
       "      <th>author</th>\n",
       "      <th>text</th>\n",
       "      <th>label</th>\n",
       "    </tr>\n",
       "  </thead>\n",
       "  <tbody>\n",
       "    <tr>\n",
       "      <th>0</th>\n",
       "      <td>0</td>\n",
       "      <td>House Dem Aide: We Didn’t Even See Comey’s Let...</td>\n",
       "      <td>Darrell Lucus</td>\n",
       "      <td>House Dem Aide: We Didn’t Even See Comey’s Let...</td>\n",
       "      <td>1</td>\n",
       "    </tr>\n",
       "    <tr>\n",
       "      <th>1</th>\n",
       "      <td>1</td>\n",
       "      <td>FLYNN: Hillary Clinton, Big Woman on Campus - ...</td>\n",
       "      <td>Daniel J. Flynn</td>\n",
       "      <td>Ever get the feeling your life circles the rou...</td>\n",
       "      <td>0</td>\n",
       "    </tr>\n",
       "    <tr>\n",
       "      <th>2</th>\n",
       "      <td>2</td>\n",
       "      <td>Why the Truth Might Get You Fired</td>\n",
       "      <td>Consortiumnews.com</td>\n",
       "      <td>Why the Truth Might Get You Fired October 29, ...</td>\n",
       "      <td>1</td>\n",
       "    </tr>\n",
       "    <tr>\n",
       "      <th>3</th>\n",
       "      <td>3</td>\n",
       "      <td>15 Civilians Killed In Single US Airstrike Hav...</td>\n",
       "      <td>Jessica Purkiss</td>\n",
       "      <td>Videos 15 Civilians Killed In Single US Airstr...</td>\n",
       "      <td>1</td>\n",
       "    </tr>\n",
       "    <tr>\n",
       "      <th>4</th>\n",
       "      <td>4</td>\n",
       "      <td>Iranian woman jailed for fictional unpublished...</td>\n",
       "      <td>Howard Portnoy</td>\n",
       "      <td>Print \\nAn Iranian woman has been sentenced to...</td>\n",
       "      <td>1</td>\n",
       "    </tr>\n",
       "  </tbody>\n",
       "</table>\n",
       "</div>"
      ],
      "text/plain": [
       "   id                                              title              author  \\\n",
       "0   0  House Dem Aide: We Didn’t Even See Comey’s Let...       Darrell Lucus   \n",
       "1   1  FLYNN: Hillary Clinton, Big Woman on Campus - ...     Daniel J. Flynn   \n",
       "2   2                  Why the Truth Might Get You Fired  Consortiumnews.com   \n",
       "3   3  15 Civilians Killed In Single US Airstrike Hav...     Jessica Purkiss   \n",
       "4   4  Iranian woman jailed for fictional unpublished...      Howard Portnoy   \n",
       "\n",
       "                                                text  label  \n",
       "0  House Dem Aide: We Didn’t Even See Comey’s Let...      1  \n",
       "1  Ever get the feeling your life circles the rou...      0  \n",
       "2  Why the Truth Might Get You Fired October 29, ...      1  \n",
       "3  Videos 15 Civilians Killed In Single US Airstr...      1  \n",
       "4  Print \\nAn Iranian woman has been sentenced to...      1  "
      ]
     },
     "execution_count": 3,
     "metadata": {},
     "output_type": "execute_result"
    }
   ],
   "source": [
    "news.head()"
   ]
  },
  {
   "cell_type": "code",
   "execution_count": 5,
   "id": "92075783",
   "metadata": {},
   "outputs": [
    {
     "data": {
      "text/plain": [
       "(20800, 5)"
      ]
     },
     "execution_count": 5,
     "metadata": {},
     "output_type": "execute_result"
    }
   ],
   "source": [
    "news.shape"
   ]
  },
  {
   "cell_type": "code",
   "execution_count": 6,
   "id": "889d4873",
   "metadata": {},
   "outputs": [
    {
     "data": {
      "text/plain": [
       "id           0\n",
       "title      558\n",
       "author    1957\n",
       "text        39\n",
       "label        0\n",
       "dtype: int64"
      ]
     },
     "execution_count": 6,
     "metadata": {},
     "output_type": "execute_result"
    }
   ],
   "source": [
    "news.isnull().sum()"
   ]
  },
  {
   "cell_type": "code",
   "execution_count": 7,
   "id": "a06531e0",
   "metadata": {},
   "outputs": [],
   "source": [
    "#dropping NAN/null values\n",
    "news.dropna(inplace=True)"
   ]
  },
  {
   "cell_type": "code",
   "execution_count": 8,
   "id": "d0c5f8e5",
   "metadata": {},
   "outputs": [
    {
     "data": {
      "text/plain": [
       "id        0\n",
       "title     0\n",
       "author    0\n",
       "text      0\n",
       "label     0\n",
       "dtype: int64"
      ]
     },
     "execution_count": 8,
     "metadata": {},
     "output_type": "execute_result"
    }
   ],
   "source": [
    "#checking if we have dropped the null values successfully.\n",
    "news.isnull().sum()"
   ]
  },
  {
   "cell_type": "code",
   "execution_count": 9,
   "id": "c8f4bd84",
   "metadata": {},
   "outputs": [],
   "source": [
    "#Defining x and y lables\n",
    "x = news.drop('label',axis=1)\n",
    "y=news['label']"
   ]
  },
  {
   "cell_type": "code",
   "execution_count": 11,
   "id": "2d30a737",
   "metadata": {},
   "outputs": [
    {
     "data": {
      "text/plain": [
       "[(18285, 4), (18285,)]"
      ]
     },
     "execution_count": 11,
     "metadata": {},
     "output_type": "execute_result"
    }
   ],
   "source": [
    "#checking the shape of the features\n",
    "[i.shape for i in (x,y)]"
   ]
  },
  {
   "cell_type": "code",
   "execution_count": 16,
   "id": "8850f462",
   "metadata": {},
   "outputs": [],
   "source": [
    "#Defining Vocabulary size\n",
    "\n",
    "voc_size= 5000"
   ]
  },
  {
   "cell_type": "markdown",
   "id": "0120004a",
   "metadata": {},
   "source": [
    "###### Data Pre-processing and One Hot Represenatation"
   ]
  },
  {
   "cell_type": "code",
   "execution_count": 17,
   "id": "3d9185dc",
   "metadata": {},
   "outputs": [],
   "source": [
    "msg = x.copy()"
   ]
  },
  {
   "cell_type": "code",
   "execution_count": 20,
   "id": "fc07c58a",
   "metadata": {},
   "outputs": [],
   "source": [
    "#We need to reset the indices as we have sampled our initial news dataset\n",
    "msg.reset_index(inplace=True)"
   ]
  },
  {
   "cell_type": "code",
   "execution_count": 24,
   "id": "15b9a89b",
   "metadata": {},
   "outputs": [
    {
     "name": "stderr",
     "output_type": "stream",
     "text": [
      "[nltk_data] Downloading package stopwords to\n",
      "[nltk_data]     C:\\Users\\HP\\AppData\\Roaming\\nltk_data...\n",
      "[nltk_data]   Package stopwords is already up-to-date!\n"
     ]
    },
    {
     "data": {
      "text/plain": [
       "True"
      ]
     },
     "execution_count": 24,
     "metadata": {},
     "output_type": "execute_result"
    }
   ],
   "source": [
    "#impoting libraries\n",
    "\n",
    "import nltk\n",
    "import re\n",
    "from nltk.corpus import stopwords\n",
    "from nltk.stem.porter import PorterStemmer\n",
    "nltk.download('stopwords')"
   ]
  },
  {
   "cell_type": "code",
   "execution_count": 25,
   "id": "4fe9d39a",
   "metadata": {},
   "outputs": [],
   "source": [
    "#Data pre-pocessing\n",
    "\n",
    "ps= PorterStemmer()\n",
    "corpus=[]\n",
    "for i in range(0,len(msg)):\n",
    "    review= re.sub('[^a-zA-Z]',' ',msg['text'][i])\n",
    "    review= review.lower()\n",
    "    review= review.split()\n",
    "    \n",
    "    review= [ps.stem(word) for word in review if not word in stopwords.words('english')]\n",
    "    review= ' '.join(review)\n",
    "    corpus.append(review)"
   ]
  },
  {
   "cell_type": "code",
   "execution_count": 26,
   "id": "9c565194",
   "metadata": {},
   "outputs": [],
   "source": [
    "#one-hot frepresentation\n",
    "\n",
    "one_hot_re = [one_hot(element,voc_size) for element in corpus]"
   ]
  },
  {
   "cell_type": "code",
   "execution_count": 29,
   "id": "b52a630e",
   "metadata": {},
   "outputs": [],
   "source": [
    "#one_hot_re[0]"
   ]
  },
  {
   "cell_type": "code",
   "execution_count": 31,
   "id": "7b7ab8d7",
   "metadata": {},
   "outputs": [],
   "source": [
    "#using pad_sequences to make all the representations of fixed length\n",
    "sentence_length=100\n",
    "embedded_docs= pad_sequences(one_hot_re, padding='pre', maxlen=sentence_length)\n",
    "#adding 0s before the numbers"
   ]
  },
  {
   "cell_type": "code",
   "execution_count": 32,
   "id": "ac7d0fba",
   "metadata": {},
   "outputs": [
    {
     "data": {
      "text/plain": [
       "array([1969,  624, 4993,  167, 4232, 3806, 4587,  851, 3614, 1330,  993,\n",
       "       3135, 3917, 3816, 1892, 4459, 4271, 1330, 3016, 4993,  475, 3194,\n",
       "       1560,  332, 3398, 1487, 2102, 4928, 1038,  412, 3872, 3532,  331,\n",
       "       2379, 3303,  475, 2807, 4993, 1781, 1509, 1252, 4403, 2808,  726,\n",
       "       2054, 3187, 2054, 1494, 4870,  215, 4146, 4092, 2397,  254, 3593,\n",
       "       2321,  768, 3872, 4745, 1993, 4849, 3730, 4008, 3872, 1993, 4849,\n",
       "       4403,  751, 3557,  692,  850, 2388, 3378,  172, 3071, 4997, 4627,\n",
       "       2860, 3369, 1416,  517, 2768,  597,  738, 1341, 3765,  692,  563,\n",
       "       3339,  953, 4554,  162, 4661, 3619, 2556, 4371, 2054, 2056, 4570,\n",
       "       4661])"
      ]
     },
     "execution_count": 32,
     "metadata": {},
     "output_type": "execute_result"
    }
   ],
   "source": [
    "embedded_docs[0]"
   ]
  },
  {
   "cell_type": "markdown",
   "id": "e98f195f",
   "metadata": {},
   "source": [
    "###### Creating Model"
   ]
  },
  {
   "cell_type": "code",
   "execution_count": 53,
   "id": "1e0f2ce9",
   "metadata": {},
   "outputs": [
    {
     "name": "stdout",
     "output_type": "stream",
     "text": [
      "Model: \"sequential_2\"\n",
      "_________________________________________________________________\n",
      "Layer (type)                 Output Shape              Param #   \n",
      "=================================================================\n",
      "embedding_2 (Embedding)      (None, 100, 40)           200000    \n",
      "_________________________________________________________________\n",
      "lstm_2 (LSTM)                (None, 100)               56400     \n",
      "_________________________________________________________________\n",
      "dense_2 (Dense)              (None, 1)                 101       \n",
      "=================================================================\n",
      "Total params: 256,501\n",
      "Trainable params: 256,501\n",
      "Non-trainable params: 0\n",
      "_________________________________________________________________\n",
      "None\n"
     ]
    }
   ],
   "source": [
    "#using embedding layer with Deep learning model to learn weights and embedding wiyh model itself.\n",
    "embedding_vector_features= 40\n",
    "model= Sequential()\n",
    "model.add(Embedding(voc_size,embedding_vector_features,input_length=sentence_length))\n",
    "model.add(LSTM(100))\n",
    "model.add(Dense(1,activation='sigmoid'))\n",
    "model.compile(loss='binary_crossentropy',optimizer='adam',metrics=['accuracy'])\n",
    "print(model.summary())"
   ]
  },
  {
   "cell_type": "code",
   "execution_count": 35,
   "id": "da91d820",
   "metadata": {},
   "outputs": [],
   "source": [
    "x_final = np.array(embedded_docs)\n",
    "y_final= np.array(y)"
   ]
  },
  {
   "cell_type": "code",
   "execution_count": 36,
   "id": "8608e97c",
   "metadata": {},
   "outputs": [
    {
     "name": "stdout",
     "output_type": "stream",
     "text": [
      "(18285, 100) (18285,)\n"
     ]
    }
   ],
   "source": [
    "print(x_final.shape, y_final.shape)"
   ]
  },
  {
   "cell_type": "code",
   "execution_count": 37,
   "id": "82a28f1d",
   "metadata": {},
   "outputs": [],
   "source": [
    "from sklearn.model_selection import train_test_split\n",
    "\n",
    "x_train,x_test, y_train,y_test = train_test_split(x_final, y_final,test_size=0.33,random_state=42)"
   ]
  },
  {
   "cell_type": "code",
   "execution_count": 38,
   "id": "99ad4862",
   "metadata": {},
   "outputs": [
    {
     "data": {
      "text/plain": [
       "[(12250, 100), (6035, 100), (12250,), (6035,)]"
      ]
     },
     "execution_count": 38,
     "metadata": {},
     "output_type": "execute_result"
    }
   ],
   "source": [
    "[i.shape for i in (x_train,x_test,y_train,y_test)]"
   ]
  },
  {
   "cell_type": "code",
   "execution_count": 39,
   "id": "9370d211",
   "metadata": {},
   "outputs": [
    {
     "name": "stdout",
     "output_type": "stream",
     "text": [
      "Epoch 1/10\n",
      "192/192 [==============================] - 33s 147ms/step - loss: 0.3578 - accuracy: 0.8389 - val_loss: 0.2691 - val_accuracy: 0.8979\n",
      "Epoch 2/10\n",
      "192/192 [==============================] - 31s 160ms/step - loss: 0.1591 - accuracy: 0.9425 - val_loss: 0.2401 - val_accuracy: 0.9049\n",
      "Epoch 3/10\n",
      "192/192 [==============================] - 30s 157ms/step - loss: 0.1064 - accuracy: 0.9623 - val_loss: 0.2789 - val_accuracy: 0.9064\n",
      "Epoch 4/10\n",
      "192/192 [==============================] - 31s 163ms/step - loss: 0.0686 - accuracy: 0.9779 - val_loss: 0.2881 - val_accuracy: 0.8910\n",
      "Epoch 5/10\n",
      "192/192 [==============================] - 30s 157ms/step - loss: 0.0550 - accuracy: 0.9816 - val_loss: 0.3422 - val_accuracy: 0.9029\n",
      "Epoch 6/10\n",
      "192/192 [==============================] - 28s 145ms/step - loss: 0.0317 - accuracy: 0.9893 - val_loss: 0.4224 - val_accuracy: 0.9019\n",
      "Epoch 7/10\n",
      "192/192 [==============================] - 30s 156ms/step - loss: 0.0229 - accuracy: 0.9936 - val_loss: 0.3947 - val_accuracy: 0.9006\n",
      "Epoch 8/10\n",
      "192/192 [==============================] - 31s 162ms/step - loss: 0.0156 - accuracy: 0.9952 - val_loss: 0.4652 - val_accuracy: 0.9006\n",
      "Epoch 9/10\n",
      "192/192 [==============================] - 30s 158ms/step - loss: 0.0137 - accuracy: 0.9956 - val_loss: 0.4612 - val_accuracy: 0.8986\n",
      "Epoch 10/10\n",
      "192/192 [==============================] - 29s 150ms/step - loss: 0.0129 - accuracy: 0.9959 - val_loss: 0.4697 - val_accuracy: 0.8827\n"
     ]
    },
    {
     "data": {
      "text/plain": [
       "<tensorflow.python.keras.callbacks.History at 0x26a908ff1c0>"
      ]
     },
     "execution_count": 39,
     "metadata": {},
     "output_type": "execute_result"
    }
   ],
   "source": [
    "model.fit(x_train,y_train, validation_data=(x_test,y_test),epochs=10,batch_size=64)"
   ]
  },
  {
   "cell_type": "markdown",
   "id": "6aefed58",
   "metadata": {},
   "source": [
    "##### Performance Metrics and Accuracy"
   ]
  },
  {
   "cell_type": "code",
   "execution_count": 47,
   "id": "1f520645",
   "metadata": {},
   "outputs": [
    {
     "name": "stderr",
     "output_type": "stream",
     "text": [
      "c:\\users\\hp\\appdata\\local\\programs\\python\\python39\\lib\\site-packages\\tensorflow\\python\\keras\\engine\\sequential.py:455: UserWarning: `model.predict_classes()` is deprecated and will be removed after 2021-01-01. Please use instead:* `np.argmax(model.predict(x), axis=-1)`,   if your model does multi-class classification   (e.g. if it uses a `softmax` last-layer activation).* `(model.predict(x) > 0.5).astype(\"int32\")`,   if your model does binary classification   (e.g. if it uses a `sigmoid` last-layer activation).\n",
      "  warnings.warn('`model.predict_classes()` is deprecated and '\n"
     ]
    },
    {
     "data": {
      "text/plain": [
       "array([[1],\n",
       "       [0],\n",
       "       [0],\n",
       "       ...,\n",
       "       [0],\n",
       "       [1],\n",
       "       [1]])"
      ]
     },
     "execution_count": 47,
     "metadata": {},
     "output_type": "execute_result"
    }
   ],
   "source": [
    "y_pred=model.predict_classes(x_test)\n",
    "y_pred"
   ]
  },
  {
   "cell_type": "code",
   "execution_count": 48,
   "id": "ceeaaac9",
   "metadata": {},
   "outputs": [],
   "source": [
    "from sklearn.metrics import confusion_matrix,accuracy_score"
   ]
  },
  {
   "cell_type": "code",
   "execution_count": 49,
   "id": "6276ea00",
   "metadata": {},
   "outputs": [
    {
     "data": {
      "text/plain": [
       "array([[2986,  433],\n",
       "       [ 275, 2341]], dtype=int64)"
      ]
     },
     "execution_count": 49,
     "metadata": {},
     "output_type": "execute_result"
    }
   ],
   "source": [
    "confusion_matrix(y_test,y_pred)"
   ]
  },
  {
   "cell_type": "code",
   "execution_count": 52,
   "id": "793380a4",
   "metadata": {},
   "outputs": [
    {
     "data": {
      "text/plain": [
       "0.8826843413421707"
      ]
     },
     "execution_count": 52,
     "metadata": {},
     "output_type": "execute_result"
    }
   ],
   "source": [
    "accuracy_score(y_test,y_pred)"
   ]
  },
  {
   "cell_type": "markdown",
   "id": "88a378cd",
   "metadata": {},
   "source": [
    "###### Using Dropout Layer"
   ]
  },
  {
   "cell_type": "code",
   "execution_count": 56,
   "id": "da064361",
   "metadata": {},
   "outputs": [
    {
     "name": "stdout",
     "output_type": "stream",
     "text": [
      "Model: \"sequential_4\"\n",
      "_________________________________________________________________\n",
      "Layer (type)                 Output Shape              Param #   \n",
      "=================================================================\n",
      "embedding_4 (Embedding)      (None, 100, 40)           200000    \n",
      "_________________________________________________________________\n",
      "dropout_2 (Dropout)          (None, 100, 40)           0         \n",
      "_________________________________________________________________\n",
      "lstm_4 (LSTM)                (None, 100)               56400     \n",
      "_________________________________________________________________\n",
      "dropout_3 (Dropout)          (None, 100)               0         \n",
      "_________________________________________________________________\n",
      "dense_4 (Dense)              (None, 1)                 101       \n",
      "=================================================================\n",
      "Total params: 256,501\n",
      "Trainable params: 256,501\n",
      "Non-trainable params: 0\n",
      "_________________________________________________________________\n",
      "None\n"
     ]
    }
   ],
   "source": [
    "embedding_vector_features= 40\n",
    "model1= Sequential()\n",
    "model1.add(Embedding(voc_size,embedding_vector_features,input_length=sentence_length))\n",
    "model1.add(Dropout(0.2))\n",
    "model1.add(LSTM(100))\n",
    "model1.add(Dropout(0.2))\n",
    "model1.add(Dense(1,activation='sigmoid'))\n",
    "model1.compile(loss='binary_crossentropy',optimizer='adam',metrics=['accuracy'])\n",
    "print(model1.summary())"
   ]
  },
  {
   "cell_type": "code",
   "execution_count": 57,
   "id": "6330e381",
   "metadata": {},
   "outputs": [
    {
     "name": "stdout",
     "output_type": "stream",
     "text": [
      "Epoch 1/10\n",
      "192/192 [==============================] - 40s 179ms/step - loss: 0.3775 - accuracy: 0.8267 - val_loss: 0.2527 - val_accuracy: 0.8978\n",
      "Epoch 2/10\n",
      "192/192 [==============================] - 27s 141ms/step - loss: 0.1808 - accuracy: 0.9340 - val_loss: 0.2499 - val_accuracy: 0.9021\n",
      "Epoch 3/10\n",
      "192/192 [==============================] - 26s 138ms/step - loss: 0.1238 - accuracy: 0.9558 - val_loss: 0.2555 - val_accuracy: 0.9034\n",
      "Epoch 4/10\n",
      "192/192 [==============================] - 34s 179ms/step - loss: 0.0955 - accuracy: 0.9687 - val_loss: 0.3025 - val_accuracy: 0.9054\n",
      "Epoch 5/10\n",
      "192/192 [==============================] - 36s 186ms/step - loss: 0.0756 - accuracy: 0.9749 - val_loss: 0.3050 - val_accuracy: 0.9052\n",
      "Epoch 6/10\n",
      "192/192 [==============================] - 44s 232ms/step - loss: 0.0567 - accuracy: 0.9827 - val_loss: 0.3676 - val_accuracy: 0.9052\n",
      "Epoch 7/10\n",
      "192/192 [==============================] - 39s 204ms/step - loss: 0.0462 - accuracy: 0.9855 - val_loss: 0.3501 - val_accuracy: 0.9011\n",
      "Epoch 8/10\n",
      "192/192 [==============================] - 41s 213ms/step - loss: 0.0304 - accuracy: 0.9903 - val_loss: 0.4199 - val_accuracy: 0.8968\n",
      "Epoch 9/10\n",
      "192/192 [==============================] - 41s 215ms/step - loss: 0.0273 - accuracy: 0.9913 - val_loss: 0.4303 - val_accuracy: 0.9011\n",
      "Epoch 10/10\n",
      "192/192 [==============================] - 31s 162ms/step - loss: 0.0293 - accuracy: 0.9909 - val_loss: 0.4696 - val_accuracy: 0.9009\n"
     ]
    },
    {
     "data": {
      "text/plain": [
       "<tensorflow.python.keras.callbacks.History at 0x26a99950550>"
      ]
     },
     "execution_count": 57,
     "metadata": {},
     "output_type": "execute_result"
    }
   ],
   "source": [
    "model1.fit(x_train,y_train, validation_data=(x_test,y_test),epochs=10,batch_size=64)"
   ]
  },
  {
   "cell_type": "code",
   "execution_count": 60,
   "id": "b0a3c8ea",
   "metadata": {},
   "outputs": [
    {
     "name": "stdout",
     "output_type": "stream",
     "text": [
      "Model score with Droput is :  0.9009113311767578\n"
     ]
    }
   ],
   "source": [
    "scores = model1.evaluate(x_test, y_test, verbose=0)\n",
    "print('Model score with Droput is : ',scores[1])"
   ]
  },
  {
   "cell_type": "markdown",
   "id": "b9b8a066",
   "metadata": {},
   "source": [
    "#### Bidirectional LSTM\n"
   ]
  },
  {
   "cell_type": "code",
   "execution_count": 62,
   "id": "13a466dc",
   "metadata": {},
   "outputs": [
    {
     "name": "stdout",
     "output_type": "stream",
     "text": [
      "Model: \"sequential_5\"\n",
      "_________________________________________________________________\n",
      "Layer (type)                 Output Shape              Param #   \n",
      "=================================================================\n",
      "embedding_5 (Embedding)      (None, 100, 40)           200000    \n",
      "_________________________________________________________________\n",
      "bidirectional (Bidirectional (None, 200)               112800    \n",
      "_________________________________________________________________\n",
      "dense_5 (Dense)              (None, 1)                 201       \n",
      "=================================================================\n",
      "Total params: 313,001\n",
      "Trainable params: 313,001\n",
      "Non-trainable params: 0\n",
      "_________________________________________________________________\n",
      "None\n"
     ]
    }
   ],
   "source": [
    "embedding_vector_features= 40\n",
    "model_bi= Sequential()\n",
    "model_bi.add(Embedding(voc_size,embedding_vector_features,input_length=sentence_length))\n",
    "model_bi.add(Bidirectional(LSTM(100)))\n",
    "model_bi.add(Dense(1,activation='sigmoid'))\n",
    "model_bi.compile(loss='binary_crossentropy',optimizer='adam',metrics=['accuracy'])\n",
    "print(model_bi.summary())"
   ]
  },
  {
   "cell_type": "code",
   "execution_count": 63,
   "id": "e4b95898",
   "metadata": {},
   "outputs": [
    {
     "name": "stdout",
     "output_type": "stream",
     "text": [
      "Epoch 1/10\n",
      "192/192 [==============================] - 82s 379ms/step - loss: 0.3651 - accuracy: 0.8286 - val_loss: 0.2552 - val_accuracy: 0.8978\n",
      "Epoch 2/10\n",
      "192/192 [==============================] - 73s 380ms/step - loss: 0.1639 - accuracy: 0.9398 - val_loss: 0.2429 - val_accuracy: 0.9051\n",
      "Epoch 3/10\n",
      "192/192 [==============================] - 67s 347ms/step - loss: 0.1087 - accuracy: 0.9622 - val_loss: 0.2471 - val_accuracy: 0.9034\n",
      "Epoch 4/10\n",
      "192/192 [==============================] - 76s 395ms/step - loss: 0.0696 - accuracy: 0.9784 - val_loss: 0.2608 - val_accuracy: 0.8974\n",
      "Epoch 5/10\n",
      "192/192 [==============================] - 50s 260ms/step - loss: 0.0464 - accuracy: 0.9851 - val_loss: 0.3479 - val_accuracy: 0.9056\n",
      "Epoch 6/10\n",
      "192/192 [==============================] - 65s 341ms/step - loss: 0.0274 - accuracy: 0.9927 - val_loss: 0.4117 - val_accuracy: 0.9065\n",
      "Epoch 7/10\n",
      "192/192 [==============================] - 65s 337ms/step - loss: 0.0168 - accuracy: 0.9942 - val_loss: 0.4681 - val_accuracy: 0.9024\n",
      "Epoch 8/10\n",
      "192/192 [==============================] - 56s 292ms/step - loss: 0.0143 - accuracy: 0.9961 - val_loss: 0.5003 - val_accuracy: 0.8984\n",
      "Epoch 9/10\n",
      "192/192 [==============================] - 57s 298ms/step - loss: 0.0195 - accuracy: 0.9938 - val_loss: 0.4429 - val_accuracy: 0.9019\n",
      "Epoch 10/10\n",
      "192/192 [==============================] - 64s 333ms/step - loss: 0.0146 - accuracy: 0.9957 - val_loss: 0.4953 - val_accuracy: 0.8971\n"
     ]
    },
    {
     "data": {
      "text/plain": [
       "<tensorflow.python.keras.callbacks.History at 0x26a98162100>"
      ]
     },
     "execution_count": 63,
     "metadata": {},
     "output_type": "execute_result"
    }
   ],
   "source": [
    "model_bi.fit(x_train,y_train, validation_data=(x_test,y_test),epochs=10,batch_size=64)"
   ]
  },
  {
   "cell_type": "code",
   "execution_count": 64,
   "id": "2b94a2d0",
   "metadata": {},
   "outputs": [
    {
     "name": "stdout",
     "output_type": "stream",
     "text": [
      "Model score using Bi-directional LSTM :  0.8971002697944641\n"
     ]
    }
   ],
   "source": [
    "scores = model_bi.evaluate(x_test, y_test, verbose=0)\n",
    "print('Model score using Bi-directional LSTM : ',scores[1])"
   ]
  },
  {
   "cell_type": "markdown",
   "id": "93bd3e4d",
   "metadata": {},
   "source": [
    "We see that we got a good accuracy with LSTM with Dropout and it out-performed Bidirectional LSTM in this use-case."
   ]
  },
  {
   "cell_type": "code",
   "execution_count": null,
   "id": "e8d39922",
   "metadata": {},
   "outputs": [],
   "source": []
  }
 ],
 "metadata": {
  "kernelspec": {
   "display_name": "Python 3",
   "language": "python",
   "name": "python3"
  },
  "language_info": {
   "codemirror_mode": {
    "name": "ipython",
    "version": 3
   },
   "file_extension": ".py",
   "mimetype": "text/x-python",
   "name": "python",
   "nbconvert_exporter": "python",
   "pygments_lexer": "ipython3",
   "version": "3.9.5"
  }
 },
 "nbformat": 4,
 "nbformat_minor": 5
}
